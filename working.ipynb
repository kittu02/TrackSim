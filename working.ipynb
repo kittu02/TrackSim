{
 "cells": [
  {
   "cell_type": "markdown",
   "metadata": {},
   "source": [
    "pip install torch torchvision numpy opencv-python pillow rembg tqdm scikit-image onnxruntime\n"
   ]
  },
  {
   "cell_type": "code",
   "execution_count": null,
   "metadata": {},
   "outputs": [],
   "source": [
    "!git clone https://github.com/facebookresearch/pifuhd.git\n",
    "!git clone https://github.com/Daniil-Osokin/lightweight-human-pose-estimation.pytorch.git\n"
   ]
  },
  {
   "cell_type": "code",
   "execution_count": null,
   "metadata": {},
   "outputs": [],
   "source": [
    "from PIL import Image\n",
    "from rembg import remove\n",
    "import shutil\n",
    "\n",
    "# Copy your image into the working folder (replace with your image name)\n",
    "input_filename = \"your_image.jpg\"\n",
    "shutil.copy(input_filename, f\"pifuhd/sample_images/{input_filename}\")\n",
    "\n",
    "# Remove background\n",
    "input_image = Image.open(f\"pifuhd/sample_images/{input_filename}\")\n",
    "output_image = remove(input_image)\n",
    "output_filename = \"nbg_\" + input_filename\n",
    "output_path = f\"pifuhd/sample_images/{output_filename}\"\n",
    "output_image.save(output_path)\n",
    "\n",
    "print(\"✅ Background removed:\", output_path)\n"
   ]
  },
  {
   "cell_type": "code",
   "execution_count": null,
   "metadata": {},
   "outputs": [],
   "source": [
    "%cd lightweight-human-pose-estimation.pytorch\n",
    "!wget https://download.01.org/opencv/openvino_training_extensions/models/human_pose_estimation/checkpoint_iter_370000.pth\n"
   ]
  },
  {
   "cell_type": "code",
   "execution_count": null,
   "metadata": {},
   "outputs": [],
   "source": [
    "import sys\n",
    "import torch\n",
    "import numpy as np\n",
    "import cv2\n",
    "\n",
    "sys.path.append(\".\")\n",
    "from models.with_mobilenet import PoseEstimationWithMobileNet\n",
    "from modules.keypoints import extract_keypoints, group_keypoints\n",
    "from modules.load_state import load_state\n",
    "from modules.pose import Pose\n",
    "import demo\n",
    "\n",
    "def get_rect(net, images, height_size):\n",
    "    net = net.eval()\n",
    "    stride = 8\n",
    "    upsample_ratio = 4\n",
    "    num_keypoints = Pose.num_kpts\n",
    "\n",
    "    for image in images:\n",
    "        rect_path = image.replace('.%s' % (image.split('.')[-1]), '_rect.txt')\n",
    "        img = cv2.imread(image)\n",
    "        heatmaps, pafs, scale, pad = demo.infer_fast(net, img, height_size, stride, upsample_ratio, cpu=False)\n",
    "\n",
    "        total_keypoints_num = 0\n",
    "        all_keypoints_by_type = []\n",
    "        for kpt_idx in range(num_keypoints):\n",
    "            total_keypoints_num += extract_keypoints(heatmaps[:, :, kpt_idx], all_keypoints_by_type, total_keypoints_num)\n",
    "\n",
    "        pose_entries, all_keypoints = group_keypoints(all_keypoints_by_type, pafs)\n",
    "        for kpt_id in range(all_keypoints.shape[0]):\n",
    "            all_keypoints[kpt_id, 0] = (all_keypoints[kpt_id, 0] * stride / upsample_ratio - pad[1]) / scale\n",
    "            all_keypoints[kpt_id, 1] = (all_keypoints[kpt_id, 1] * stride / upsample_ratio - pad[0]) / scale\n",
    "\n",
    "        rects = []\n",
    "        for n in range(len(pose_entries)):\n",
    "            if len(pose_entries[n]) == 0:\n",
    "                continue\n",
    "\n",
    "            pose_keypoints = np.ones((num_keypoints, 2), dtype=np.int32) * -1\n",
    "            valid_keypoints = []\n",
    "\n",
    "            for kpt_id in range(num_keypoints):\n",
    "                if pose_entries[n][kpt_id] != -1.0:\n",
    "                    pose_keypoints[kpt_id, 0] = int(all_keypoints[int(pose_entries[n][kpt_id]), 0])\n",
    "                    pose_keypoints[kpt_id, 1] = int(all_keypoints[int(pose_entries[n][kpt_id]), 1])\n",
    "                    valid_keypoints.append([pose_keypoints[kpt_id, 0], pose_keypoints[kpt_id, 1]])\n",
    "\n",
    "            valid_keypoints = np.array(valid_keypoints)\n",
    "\n",
    "            if pose_entries[n][10] != -1.0 or pose_entries[n][13] != -1.0:\n",
    "                pmin = valid_keypoints.min(0)\n",
    "                pmax = valid_keypoints.max(0)\n",
    "                center = (0.5 * (pmax[:2] + pmin[:2])).astype(np.int_)\n",
    "                radius = int(0.65 * max(pmax[0] - pmin[0], pmax[1] - pmin[1]))\n",
    "            elif pose_entries[n][8] != -1.0 and pose_entries[n][11] != -1.0:\n",
    "                center = (0.5 * (pose_keypoints[8] + pose_keypoints[11])).astype(np.int_)\n",
    "                radius = int(1.45 * np.sqrt(((center[None, :] - valid_keypoints) ** 2).sum(1)).max(0))\n",
    "                center[1] += int(0.05 * radius)\n",
    "            else:\n",
    "                center = np.array([img.shape[1] // 2, img.shape[0] // 2])\n",
    "                radius = max(img.shape[1] // 2, img.shape[0] // 2)\n",
    "\n",
    "            x1 = center[0] - radius\n",
    "            y1 = center[1] - radius\n",
    "            rects.append([x1, y1, 2 * radius, 2 * radius])\n",
    "\n",
    "        np.savetxt(rect_path, np.array(rects), fmt='%d')\n",
    "        print(\"✅ Rect file saved:\", rect_path)\n"
   ]
  },
  {
   "cell_type": "code",
   "execution_count": null,
   "metadata": {},
   "outputs": [],
   "source": [
    "net = PoseEstimationWithMobileNet()\n",
    "checkpoint = torch.load(\"checkpoint_iter_370000.pth\", map_location='cpu')\n",
    "load_state(net, checkpoint)\n",
    "\n",
    "image_path = os.path.abspath(f\"../pifuhd/sample_images/{output_filename}\")\n",
    "get_rect(net.cuda(), [image_path], 512)\n",
    "\n",
    "%cd ..\n"
   ]
  },
  {
   "cell_type": "code",
   "execution_count": null,
   "metadata": {},
   "outputs": [],
   "source": [
    "%cd pifuhd\n",
    "!sh ./scripts/download_trained_model.sh\n"
   ]
  },
  {
   "cell_type": "code",
   "execution_count": null,
   "metadata": {},
   "outputs": [],
   "source": [
    "image_dir = \"sample_images\"\n",
    "!python -m apps.simple_test -r 256 --use_rect -i {image_dir}\n",
    "\n",
    "# Final outputs are saved in: pifuhd/results/pifuhd_final/recon/\n"
   ]
  }
 ],
 "metadata": {
  "language_info": {
   "name": "python"
  }
 },
 "nbformat": 4,
 "nbformat_minor": 2
}
